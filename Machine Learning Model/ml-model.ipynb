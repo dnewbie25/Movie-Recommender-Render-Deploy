{
 "cells": [
  {
   "cell_type": "code",
   "execution_count": 1,
   "metadata": {},
   "outputs": [],
   "source": [
    "import pandas as pd\n",
    "import numpy as np\n",
    "from sklearn.preprocessing import OneHotEncoder\n"
   ]
  },
  {
   "cell_type": "code",
   "execution_count": 2,
   "metadata": {},
   "outputs": [],
   "source": [
    "movies = pd.read_csv(\"movies_dataset_cleaned.csv\")\n",
    "credits = pd.read_csv(\"credits_unnested_cleaned.csv\",compression=\"gzip\")\n",
    "# movies.drop_duplicates(inplace=True)\n",
    "# credits.drop_duplicates(inplace=True)\n",
    "# movies.dropna(inplace=True)\n",
    "# credits.dropna(inplace=True)"
   ]
  },
  {
   "cell_type": "code",
   "execution_count": 165,
   "metadata": {},
   "outputs": [],
   "source": [
    "names = movies[\"title\"]\n",
    "encoder =OneHotEncoder()\n",
    "\n",
    "names_encoded = encoder.fit_transform(names.values.reshape(-1,1))"
   ]
  },
  {
   "cell_type": "code",
   "execution_count": 166,
   "metadata": {},
   "outputs": [
    {
     "ename": "MemoryError",
     "evalue": "Unable to allocate 14.3 GiB for an array with shape (45446, 42278) and data type float64",
     "output_type": "error",
     "traceback": [
      "\u001b[0;31m---------------------------------------------------------------------------\u001b[0m",
      "\u001b[0;31mMemoryError\u001b[0m                               Traceback (most recent call last)",
      "Cell \u001b[0;32mIn[166], line 4\u001b[0m\n\u001b[1;32m      1\u001b[0m \u001b[38;5;28;01mfrom\u001b[39;00m \u001b[38;5;21;01msklearn\u001b[39;00m\u001b[38;5;21;01m.\u001b[39;00m\u001b[38;5;21;01mneighbors\u001b[39;00m \u001b[38;5;28;01mimport\u001b[39;00m NearestNeighbors\n\u001b[1;32m      3\u001b[0m recommender \u001b[38;5;241m=\u001b[39m NearestNeighbors(metric\u001b[38;5;241m=\u001b[39m\u001b[38;5;124m\"\u001b[39m\u001b[38;5;124mcosine\u001b[39m\u001b[38;5;124m\"\u001b[39m)\n\u001b[0;32m----> 4\u001b[0m recommender\u001b[38;5;241m.\u001b[39mfit(names_encoded\u001b[38;5;241m.\u001b[39mtoarray())\n",
      "File \u001b[0;32m~/anaconda3/lib/python3.11/site-packages/scipy/sparse/_compressed.py:1050\u001b[0m, in \u001b[0;36m_cs_matrix.toarray\u001b[0;34m(self, order, out)\u001b[0m\n\u001b[1;32m   1048\u001b[0m \u001b[38;5;28;01mif\u001b[39;00m out \u001b[38;5;129;01mis\u001b[39;00m \u001b[38;5;28;01mNone\u001b[39;00m \u001b[38;5;129;01mand\u001b[39;00m order \u001b[38;5;129;01mis\u001b[39;00m \u001b[38;5;28;01mNone\u001b[39;00m:\n\u001b[1;32m   1049\u001b[0m     order \u001b[38;5;241m=\u001b[39m \u001b[38;5;28mself\u001b[39m\u001b[38;5;241m.\u001b[39m_swap(\u001b[38;5;124m'\u001b[39m\u001b[38;5;124mcf\u001b[39m\u001b[38;5;124m'\u001b[39m)[\u001b[38;5;241m0\u001b[39m]\n\u001b[0;32m-> 1050\u001b[0m out \u001b[38;5;241m=\u001b[39m \u001b[38;5;28mself\u001b[39m\u001b[38;5;241m.\u001b[39m_process_toarray_args(order, out)\n\u001b[1;32m   1051\u001b[0m \u001b[38;5;28;01mif\u001b[39;00m \u001b[38;5;129;01mnot\u001b[39;00m (out\u001b[38;5;241m.\u001b[39mflags\u001b[38;5;241m.\u001b[39mc_contiguous \u001b[38;5;129;01mor\u001b[39;00m out\u001b[38;5;241m.\u001b[39mflags\u001b[38;5;241m.\u001b[39mf_contiguous):\n\u001b[1;32m   1052\u001b[0m     \u001b[38;5;28;01mraise\u001b[39;00m \u001b[38;5;167;01mValueError\u001b[39;00m(\u001b[38;5;124m'\u001b[39m\u001b[38;5;124mOutput array must be C or F contiguous\u001b[39m\u001b[38;5;124m'\u001b[39m)\n",
      "File \u001b[0;32m~/anaconda3/lib/python3.11/site-packages/scipy/sparse/_base.py:1267\u001b[0m, in \u001b[0;36m_spbase._process_toarray_args\u001b[0;34m(self, order, out)\u001b[0m\n\u001b[1;32m   1265\u001b[0m     \u001b[38;5;28;01mreturn\u001b[39;00m out\n\u001b[1;32m   1266\u001b[0m \u001b[38;5;28;01melse\u001b[39;00m:\n\u001b[0;32m-> 1267\u001b[0m     \u001b[38;5;28;01mreturn\u001b[39;00m np\u001b[38;5;241m.\u001b[39mzeros(\u001b[38;5;28mself\u001b[39m\u001b[38;5;241m.\u001b[39mshape, dtype\u001b[38;5;241m=\u001b[39m\u001b[38;5;28mself\u001b[39m\u001b[38;5;241m.\u001b[39mdtype, order\u001b[38;5;241m=\u001b[39morder)\n",
      "\u001b[0;31mMemoryError\u001b[0m: Unable to allocate 14.3 GiB for an array with shape (45446, 42278) and data type float64"
     ]
    }
   ],
   "source": [
    "from sklearn.neighbors import NearestNeighbors\n",
    "\n",
    "recommender = NearestNeighbors(metric=\"cosine\")\n",
    "recommender.fit(names_encoded.toarray())"
   ]
  },
  {
   "cell_type": "code",
   "execution_count": 245,
   "metadata": {},
   "outputs": [
    {
     "data": {
      "text/plain": [
       "budget                                                              16000000\n",
       "id                                                                     31357\n",
       "original_language                                                         en\n",
       "overview                   Cheated on, mistreated and stepped on, the wom...\n",
       "popularity                                                          3.859495\n",
       "release_date                                                      1995-12-22\n",
       "revenue                                                           81452156.0\n",
       "runtime                                                                127.0\n",
       "status                                                              Released\n",
       "tagline                    Friends are the people who let you be yourself...\n",
       "title                                                      Waiting to Exhale\n",
       "vote_average                                                             6.1\n",
       "vote_count                                                              34.0\n",
       "id.1                                                                     NaN\n",
       "name                                                                     NaN\n",
       "poster_path.1                                                            NaN\n",
       "backdrop_path                                                            NaN\n",
       "genre_id                                                     [35, 18, 10749]\n",
       "genre_name                                    ['Comedy', 'Drama', 'Romance']\n",
       "production_company_name           ['Twentieth Century Fox Film Corporation']\n",
       "production_company_id                                                  [306]\n",
       "production_iso_3166_1                                                     US\n",
       "production_country                                  United States of America\n",
       "language_iso_639_1                                                        en\n",
       "language                                                             English\n",
       "release_year                                                            1995\n",
       "return                                                               5.09076\n",
       "Name: 3, dtype: object"
      ]
     },
     "execution_count": 245,
     "metadata": {},
     "output_type": "execute_result"
    }
   ],
   "source": [
    "movies.iloc[3]"
   ]
  },
  {
   "cell_type": "code",
   "execution_count": null,
   "metadata": {},
   "outputs": [],
   "source": [
    "# movie_index = np.random.randint(0,len(movies[\"name\"]))\n",
    "# num_recommendations = 5\n",
    "# _, recommendations = recommender.kneighbors(names_encoded[movie_index].toarray(), n_neighbors=num_recommendations)\n",
    "# recommended_movie_titles = movies.iloc[recommendations[0]]['title']"
   ]
  },
  {
   "cell_type": "code",
   "execution_count": null,
   "metadata": {},
   "outputs": [],
   "source": [
    "#movies.iloc[movie_index][\"title\"]"
   ]
  },
  {
   "cell_type": "code",
   "execution_count": null,
   "metadata": {},
   "outputs": [],
   "source": [
    "#recommended_movie_titles"
   ]
  },
  {
   "cell_type": "code",
   "execution_count": null,
   "metadata": {},
   "outputs": [],
   "source": [
    "#movies[\"title\"]"
   ]
  },
  {
   "cell_type": "markdown",
   "metadata": {},
   "source": [
    "the model seems to be working, now I will use it to determine which movies would it choose based on the actors and crew members"
   ]
  },
  {
   "cell_type": "code",
   "execution_count": null,
   "metadata": {},
   "outputs": [],
   "source": [
    "# movie_id = credits[\"id\"]\n",
    "# encoder2 = OneHotEncoder()\n",
    "# id_encoded = encoder2.fit_transform(movie_id.values.reshape(-1,1))\n",
    "# recommender2 = NearestNeighbors(metric=\"cosine\")\n",
    "# recommender2.fit(id_encoded)\n",
    "\n",
    "# id_index = np.random.randint(0,len(credits[\"id\"]))\n",
    "# num_recommendations = 5\n",
    "\n",
    "# _, recommendations2 = recommender2.kneighbors(id_encoded[id_index].toarray(), n_neighbors=num_recommendations)\n",
    "# recommended_movie_ids = credits.iloc[recommendations2[0]]['id']\n"
   ]
  },
  {
   "cell_type": "code",
   "execution_count": null,
   "metadata": {},
   "outputs": [],
   "source": [
    "#credits.iloc[id_index][\"id\"]"
   ]
  },
  {
   "cell_type": "code",
   "execution_count": null,
   "metadata": {},
   "outputs": [],
   "source": [
    "#recommended_movie_ids"
   ]
  },
  {
   "cell_type": "code",
   "execution_count": null,
   "metadata": {},
   "outputs": [],
   "source": [
    "# for idx, val in enumerate(recommended_movie_ids):\n",
    "#   print(idx)"
   ]
  },
  {
   "cell_type": "code",
   "execution_count": null,
   "metadata": {},
   "outputs": [
    {
     "name": "stdout",
     "output_type": "stream",
     "text": [
      "<class 'pandas.core.frame.DataFrame'>\n",
      "Index: 42675 entries, 0 to 45437\n",
      "Data columns (total 16 columns):\n",
      " #   Column             Non-Null Count  Dtype \n",
      "---  ------             --------------  ----- \n",
      " 0   id                 42675 non-null  int64 \n",
      " 1   cast_id            42675 non-null  object\n",
      " 2   character          42675 non-null  object\n",
      " 3   credit_id          42675 non-null  object\n",
      " 4   actor_gender       42675 non-null  object\n",
      " 5   actor_id           42675 non-null  object\n",
      " 6   actor_name         42675 non-null  object\n",
      " 7   order              42675 non-null  object\n",
      " 8   profile_path       42675 non-null  object\n",
      " 9   crew_credit_id     42675 non-null  object\n",
      " 10  crew_department    42675 non-null  object\n",
      " 11  crew_gender        42675 non-null  object\n",
      " 12  crew_id            42675 non-null  object\n",
      " 13  crew_job           42675 non-null  object\n",
      " 14  crew_name          42675 non-null  object\n",
      " 15  crew_profile_path  42675 non-null  object\n",
      "dtypes: int64(1), object(15)\n",
      "memory usage: 5.5+ MB\n"
     ]
    }
   ],
   "source": [
    "credits.info()"
   ]
  },
  {
   "cell_type": "markdown",
   "metadata": {},
   "source": [
    "Se crea un dataframe que junte casting y datos de las peliculas por igual"
   ]
  },
  {
   "cell_type": "code",
   "execution_count": 3,
   "metadata": {},
   "outputs": [
    {
     "data": {
      "text/html": [
       "<div>\n",
       "<style scoped>\n",
       "    .dataframe tbody tr th:only-of-type {\n",
       "        vertical-align: middle;\n",
       "    }\n",
       "\n",
       "    .dataframe tbody tr th {\n",
       "        vertical-align: top;\n",
       "    }\n",
       "\n",
       "    .dataframe thead th {\n",
       "        text-align: right;\n",
       "    }\n",
       "</style>\n",
       "<table border=\"1\" class=\"dataframe\">\n",
       "  <thead>\n",
       "    <tr style=\"text-align: right;\">\n",
       "      <th></th>\n",
       "      <th>budget</th>\n",
       "      <th>id_movies</th>\n",
       "      <th>original_language</th>\n",
       "      <th>overview</th>\n",
       "      <th>popularity</th>\n",
       "      <th>release_date</th>\n",
       "      <th>revenue</th>\n",
       "      <th>runtime</th>\n",
       "      <th>status</th>\n",
       "      <th>tagline</th>\n",
       "      <th>...</th>\n",
       "      <th>actor_name</th>\n",
       "      <th>order</th>\n",
       "      <th>profile_path</th>\n",
       "      <th>crew_credit_id</th>\n",
       "      <th>crew_department</th>\n",
       "      <th>crew_gender</th>\n",
       "      <th>crew_id</th>\n",
       "      <th>crew_job</th>\n",
       "      <th>crew_name</th>\n",
       "      <th>crew_profile_path</th>\n",
       "    </tr>\n",
       "  </thead>\n",
       "  <tbody>\n",
       "    <tr>\n",
       "      <th>0</th>\n",
       "      <td>30000000</td>\n",
       "      <td>862</td>\n",
       "      <td>en</td>\n",
       "      <td>Led by Woody, Andy's toys live happily in his ...</td>\n",
       "      <td>21.946943</td>\n",
       "      <td>1995-10-30</td>\n",
       "      <td>373554033.0</td>\n",
       "      <td>81.0</td>\n",
       "      <td>Released</td>\n",
       "      <td>NaN</td>\n",
       "      <td>...</td>\n",
       "      <td>['Ad van Kempen', 'Ariane Schluter']</td>\n",
       "      <td>[1, 2]</td>\n",
       "      <td>[None, '/hRoNRFW1fTKLatWr507tR5peWZD.jpg']</td>\n",
       "      <td>['52fe49eac3a36847f81ad513']</td>\n",
       "      <td>['Directing']</td>\n",
       "      <td>[0]</td>\n",
       "      <td>[28889]</td>\n",
       "      <td>['Director']</td>\n",
       "      <td>['Theo van Gogh']</td>\n",
       "      <td>[None]</td>\n",
       "    </tr>\n",
       "    <tr>\n",
       "      <th>1</th>\n",
       "      <td>65000000</td>\n",
       "      <td>8844</td>\n",
       "      <td>en</td>\n",
       "      <td>When siblings Judy and Peter discover an encha...</td>\n",
       "      <td>17.015539</td>\n",
       "      <td>1995-12-15</td>\n",
       "      <td>262797249.0</td>\n",
       "      <td>104.0</td>\n",
       "      <td>Released</td>\n",
       "      <td>Roll the dice and unleash the excitement!</td>\n",
       "      <td>...</td>\n",
       "      <td>['Bill Paterson', 'Eleanor David', 'Clare Grog...</td>\n",
       "      <td>[0, 1, 2, 3, 4, 5, 6, 7, 8, 9, 10, 11, 12, 13,...</td>\n",
       "      <td>['/lLIPguoZJZeZ04niI4PaG1cv3Xf.jpg', '/dKteIvo...</td>\n",
       "      <td>['52fe44099251416c91002c73', '52fe44099251416c...</td>\n",
       "      <td>['Sound', 'Production', 'Directing', 'Producti...</td>\n",
       "      <td>[2, 2, 2, 1, 0]</td>\n",
       "      <td>[8271, 63960, 68687, 96588, 105965]</td>\n",
       "      <td>['Music', 'Producer', 'Director', 'Producer', ...</td>\n",
       "      <td>['Mark Knopfler', 'Clive Parsons', 'Bill Forsy...</td>\n",
       "      <td>['/vH7xSbq53I8cPlRmi4aeSZwg7qg.jpg', None, '/1...</td>\n",
       "    </tr>\n",
       "    <tr>\n",
       "      <th>2</th>\n",
       "      <td>0</td>\n",
       "      <td>15602</td>\n",
       "      <td>en</td>\n",
       "      <td>A family wedding reignites the ancient feud be...</td>\n",
       "      <td>11.712900</td>\n",
       "      <td>1995-12-22</td>\n",
       "      <td>0.0</td>\n",
       "      <td>101.0</td>\n",
       "      <td>Released</td>\n",
       "      <td>Still Yelling. Still Fighting. Still Ready for...</td>\n",
       "      <td>...</td>\n",
       "      <td>['Sylvester Stallone', 'Jason Statham', 'Dolph...</td>\n",
       "      <td>[0, 1, 2, 3, 4, 5, 6, 7, 8, 9, 10, 11, 12, 14,...</td>\n",
       "      <td>['/gnmwOa46C2TP35N7ARSzboTdx2u.jpg', '/PhWiWga...</td>\n",
       "      <td>['52fe4555c3a368484e05423f', '54fdc60992514123...</td>\n",
       "      <td>['Camera', 'Crew', 'Production', 'Camera', 'So...</td>\n",
       "      <td>[0, 2, 1, 0, 2, 2, 0, 2, 2, 0, 0, 2, 2, 0, 2, ...</td>\n",
       "      <td>[904, 2507, 3965, 13670, 6041, 6880, 9441, 510...</td>\n",
       "      <td>['Director of Photography', 'Second Unit Cinem...</td>\n",
       "      <td>['Jeffrey L. Kimball', 'Matthew F. Leonetti', ...</td>\n",
       "      <td>[None, None, '/7OBiqW30sXcW4f2xMds53L4JBN5.jpg...</td>\n",
       "    </tr>\n",
       "    <tr>\n",
       "      <th>3</th>\n",
       "      <td>16000000</td>\n",
       "      <td>31357</td>\n",
       "      <td>en</td>\n",
       "      <td>Cheated on, mistreated and stepped on, the wom...</td>\n",
       "      <td>3.859495</td>\n",
       "      <td>1995-12-22</td>\n",
       "      <td>81452156.0</td>\n",
       "      <td>127.0</td>\n",
       "      <td>Released</td>\n",
       "      <td>Friends are the people who let you be yourself...</td>\n",
       "      <td>...</td>\n",
       "      <td>['Harvey Keitel', 'John Lydon', 'Nicole Garcia...</td>\n",
       "      <td>[0, 1, 2, 3]</td>\n",
       "      <td>['/4IcHhp1SCKijRxb7kqnxZNJuKdn.jpg', '/g5szwmt...</td>\n",
       "      <td>['52fe4782c3a368484e0caf2f', '52fe4782c3a36848...</td>\n",
       "      <td>['Directing', 'Writing', 'Writing', 'Writing',...</td>\n",
       "      <td>[2, 0, 2, 0, 0, 2, 0, 2, 1, 0, 0, 0]</td>\n",
       "      <td>[80586, 25316, 80586, 939228, 9233, 1259, 9333...</td>\n",
       "      <td>['Director', 'Screenplay', 'Screenplay', 'Scre...</td>\n",
       "      <td>['Roberto Faenza', 'Ennio De Concini', 'Robert...</td>\n",
       "      <td>['/rG53ltb0dtN3nFoxpmyxXrR3chw.jpg', None, '/r...</td>\n",
       "    </tr>\n",
       "    <tr>\n",
       "      <th>4</th>\n",
       "      <td>0</td>\n",
       "      <td>11862</td>\n",
       "      <td>en</td>\n",
       "      <td>Just when George Banks has recovered from his ...</td>\n",
       "      <td>8.387519</td>\n",
       "      <td>1995-02-10</td>\n",
       "      <td>76578911.0</td>\n",
       "      <td>106.0</td>\n",
       "      <td>Released</td>\n",
       "      <td>Just When His World Is Back To Normal... He's ...</td>\n",
       "      <td>...</td>\n",
       "      <td>['Emma Roberts', 'Josh Flitter', 'Max Thieriot...</td>\n",
       "      <td>[0, 1, 2, 3, 4, 5, 6, 7, 8, 9, 10, 11, 12, 13,...</td>\n",
       "      <td>['/5sFDfAJVxRLlsxT9fA16iWAiwpU.jpg', '/6RCA8tD...</td>\n",
       "      <td>['5648c1799251413e7f007984', '5648c26fc3a36826...</td>\n",
       "      <td>['Production', 'Costume &amp; Make-Up', 'Productio...</td>\n",
       "      <td>[2, 2, 0, 2, 0, 0, 2, 0, 1, 0, 2, 1, 2, 2, 1, ...</td>\n",
       "      <td>[1888, 6348, 6874, 8794, 10955, 10955, 11876, ...</td>\n",
       "      <td>['Producer', 'Costume Design', 'Executive Prod...</td>\n",
       "      <td>['Jerry Weintraub', 'Jeffrey Kurland', 'Ben Wa...</td>\n",
       "      <td>['/wqmJO4ChjNmmlz3wZ8qoCIC1VG9.jpg', None, Non...</td>\n",
       "    </tr>\n",
       "  </tbody>\n",
       "</table>\n",
       "<p>5 rows × 43 columns</p>\n",
       "</div>"
      ],
      "text/plain": [
       "     budget  id_movies original_language  \\\n",
       "0  30000000        862                en   \n",
       "1  65000000       8844                en   \n",
       "2         0      15602                en   \n",
       "3  16000000      31357                en   \n",
       "4         0      11862                en   \n",
       "\n",
       "                                            overview  popularity release_date  \\\n",
       "0  Led by Woody, Andy's toys live happily in his ...   21.946943   1995-10-30   \n",
       "1  When siblings Judy and Peter discover an encha...   17.015539   1995-12-15   \n",
       "2  A family wedding reignites the ancient feud be...   11.712900   1995-12-22   \n",
       "3  Cheated on, mistreated and stepped on, the wom...    3.859495   1995-12-22   \n",
       "4  Just when George Banks has recovered from his ...    8.387519   1995-02-10   \n",
       "\n",
       "       revenue  runtime    status  \\\n",
       "0  373554033.0     81.0  Released   \n",
       "1  262797249.0    104.0  Released   \n",
       "2          0.0    101.0  Released   \n",
       "3   81452156.0    127.0  Released   \n",
       "4   76578911.0    106.0  Released   \n",
       "\n",
       "                                             tagline  ...  \\\n",
       "0                                                NaN  ...   \n",
       "1          Roll the dice and unleash the excitement!  ...   \n",
       "2  Still Yelling. Still Fighting. Still Ready for...  ...   \n",
       "3  Friends are the people who let you be yourself...  ...   \n",
       "4  Just When His World Is Back To Normal... He's ...  ...   \n",
       "\n",
       "                                          actor_name  \\\n",
       "0               ['Ad van Kempen', 'Ariane Schluter']   \n",
       "1  ['Bill Paterson', 'Eleanor David', 'Clare Grog...   \n",
       "2  ['Sylvester Stallone', 'Jason Statham', 'Dolph...   \n",
       "3  ['Harvey Keitel', 'John Lydon', 'Nicole Garcia...   \n",
       "4  ['Emma Roberts', 'Josh Flitter', 'Max Thieriot...   \n",
       "\n",
       "                                               order  \\\n",
       "0                                             [1, 2]   \n",
       "1  [0, 1, 2, 3, 4, 5, 6, 7, 8, 9, 10, 11, 12, 13,...   \n",
       "2  [0, 1, 2, 3, 4, 5, 6, 7, 8, 9, 10, 11, 12, 14,...   \n",
       "3                                       [0, 1, 2, 3]   \n",
       "4  [0, 1, 2, 3, 4, 5, 6, 7, 8, 9, 10, 11, 12, 13,...   \n",
       "\n",
       "                                        profile_path  \\\n",
       "0         [None, '/hRoNRFW1fTKLatWr507tR5peWZD.jpg']   \n",
       "1  ['/lLIPguoZJZeZ04niI4PaG1cv3Xf.jpg', '/dKteIvo...   \n",
       "2  ['/gnmwOa46C2TP35N7ARSzboTdx2u.jpg', '/PhWiWga...   \n",
       "3  ['/4IcHhp1SCKijRxb7kqnxZNJuKdn.jpg', '/g5szwmt...   \n",
       "4  ['/5sFDfAJVxRLlsxT9fA16iWAiwpU.jpg', '/6RCA8tD...   \n",
       "\n",
       "                                      crew_credit_id  \\\n",
       "0                       ['52fe49eac3a36847f81ad513']   \n",
       "1  ['52fe44099251416c91002c73', '52fe44099251416c...   \n",
       "2  ['52fe4555c3a368484e05423f', '54fdc60992514123...   \n",
       "3  ['52fe4782c3a368484e0caf2f', '52fe4782c3a36848...   \n",
       "4  ['5648c1799251413e7f007984', '5648c26fc3a36826...   \n",
       "\n",
       "                                     crew_department  \\\n",
       "0                                      ['Directing']   \n",
       "1  ['Sound', 'Production', 'Directing', 'Producti...   \n",
       "2  ['Camera', 'Crew', 'Production', 'Camera', 'So...   \n",
       "3  ['Directing', 'Writing', 'Writing', 'Writing',...   \n",
       "4  ['Production', 'Costume & Make-Up', 'Productio...   \n",
       "\n",
       "                                         crew_gender  \\\n",
       "0                                                [0]   \n",
       "1                                    [2, 2, 2, 1, 0]   \n",
       "2  [0, 2, 1, 0, 2, 2, 0, 2, 2, 0, 0, 2, 2, 0, 2, ...   \n",
       "3               [2, 0, 2, 0, 0, 2, 0, 2, 1, 0, 0, 0]   \n",
       "4  [2, 2, 0, 2, 0, 0, 2, 0, 1, 0, 2, 1, 2, 2, 1, ...   \n",
       "\n",
       "                                             crew_id  \\\n",
       "0                                            [28889]   \n",
       "1                [8271, 63960, 68687, 96588, 105965]   \n",
       "2  [904, 2507, 3965, 13670, 6041, 6880, 9441, 510...   \n",
       "3  [80586, 25316, 80586, 939228, 9233, 1259, 9333...   \n",
       "4  [1888, 6348, 6874, 8794, 10955, 10955, 11876, ...   \n",
       "\n",
       "                                            crew_job  \\\n",
       "0                                       ['Director']   \n",
       "1  ['Music', 'Producer', 'Director', 'Producer', ...   \n",
       "2  ['Director of Photography', 'Second Unit Cinem...   \n",
       "3  ['Director', 'Screenplay', 'Screenplay', 'Scre...   \n",
       "4  ['Producer', 'Costume Design', 'Executive Prod...   \n",
       "\n",
       "                                           crew_name  \\\n",
       "0                                  ['Theo van Gogh']   \n",
       "1  ['Mark Knopfler', 'Clive Parsons', 'Bill Forsy...   \n",
       "2  ['Jeffrey L. Kimball', 'Matthew F. Leonetti', ...   \n",
       "3  ['Roberto Faenza', 'Ennio De Concini', 'Robert...   \n",
       "4  ['Jerry Weintraub', 'Jeffrey Kurland', 'Ben Wa...   \n",
       "\n",
       "                                   crew_profile_path  \n",
       "0                                             [None]  \n",
       "1  ['/vH7xSbq53I8cPlRmi4aeSZwg7qg.jpg', None, '/1...  \n",
       "2  [None, None, '/7OBiqW30sXcW4f2xMds53L4JBN5.jpg...  \n",
       "3  ['/rG53ltb0dtN3nFoxpmyxXrR3chw.jpg', None, '/r...  \n",
       "4  ['/wqmJO4ChjNmmlz3wZ8qoCIC1VG9.jpg', None, Non...  \n",
       "\n",
       "[5 rows x 43 columns]"
      ]
     },
     "execution_count": 3,
     "metadata": {},
     "output_type": "execute_result"
    }
   ],
   "source": [
    "full_data = movies.join(credits, on=\"id\", lsuffix='_movies', rsuffix='_credits',how=\"left\")\n",
    "full_data.head()"
   ]
  },
  {
   "cell_type": "code",
   "execution_count": 4,
   "metadata": {},
   "outputs": [
    {
     "name": "stdout",
     "output_type": "stream",
     "text": [
      "<class 'pandas.core.frame.DataFrame'>\n",
      "RangeIndex: 45359 entries, 0 to 45358\n",
      "Data columns (total 43 columns):\n",
      " #   Column                   Non-Null Count  Dtype  \n",
      "---  ------                   --------------  -----  \n",
      " 0   budget                   45359 non-null  int64  \n",
      " 1   id_movies                45359 non-null  int64  \n",
      " 2   original_language        45348 non-null  object \n",
      " 3   overview                 44418 non-null  object \n",
      " 4   popularity               45359 non-null  float64\n",
      " 5   release_date             45359 non-null  object \n",
      " 6   revenue                  45359 non-null  float64\n",
      " 7   runtime                  45113 non-null  float64\n",
      " 8   status                   45279 non-null  object \n",
      " 9   tagline                  20393 non-null  object \n",
      " 10  title                    45359 non-null  object \n",
      " 11  vote_average             45359 non-null  float64\n",
      " 12  vote_count               45359 non-null  float64\n",
      " 13  id.1                     4487 non-null   float64\n",
      " 14  name                     4487 non-null   object \n",
      " 15  poster_path.1            3944 non-null   object \n",
      " 16  backdrop_path            3260 non-null   object \n",
      " 17  genre_id                 45359 non-null  object \n",
      " 18  genre_name               45359 non-null  object \n",
      " 19  production_company_name  33568 non-null  object \n",
      " 20  production_company_id    33568 non-null  object \n",
      " 21  production_iso_3166_1    39150 non-null  object \n",
      " 22  production_country       39151 non-null  object \n",
      " 23  language_iso_639_1       41593 non-null  object \n",
      " 24  language                 41372 non-null  object \n",
      " 25  release_year             45359 non-null  int64  \n",
      " 26  return                   45359 non-null  float64\n",
      " 27  id_credits               18784 non-null  float64\n",
      " 28  cast_id                  17811 non-null  object \n",
      " 29  character                17811 non-null  object \n",
      " 30  credit_id                17811 non-null  object \n",
      " 31  actor_gender             17811 non-null  object \n",
      " 32  actor_id                 17811 non-null  object \n",
      " 33  actor_name               17811 non-null  object \n",
      " 34  order                    17811 non-null  object \n",
      " 35  profile_path             17811 non-null  object \n",
      " 36  crew_credit_id           18503 non-null  object \n",
      " 37  crew_department          18503 non-null  object \n",
      " 38  crew_gender              18503 non-null  object \n",
      " 39  crew_id                  18503 non-null  object \n",
      " 40  crew_job                 18503 non-null  object \n",
      " 41  crew_name                18503 non-null  object \n",
      " 42  crew_profile_path        18503 non-null  object \n",
      "dtypes: float64(8), int64(3), object(32)\n",
      "memory usage: 14.9+ MB\n"
     ]
    }
   ],
   "source": [
    "full_data.info()"
   ]
  },
  {
   "cell_type": "code",
   "execution_count": 5,
   "metadata": {},
   "outputs": [
    {
     "name": "stdout",
     "output_type": "stream",
     "text": [
      "<class 'pandas.core.frame.DataFrame'>\n",
      "RangeIndex: 45359 entries, 0 to 45358\n",
      "Data columns (total 43 columns):\n",
      " #   Column                   Non-Null Count  Dtype  \n",
      "---  ------                   --------------  -----  \n",
      " 0   budget                   45359 non-null  int64  \n",
      " 1   id_movies                45359 non-null  int64  \n",
      " 2   original_language        45348 non-null  object \n",
      " 3   overview                 44418 non-null  object \n",
      " 4   popularity               45359 non-null  float64\n",
      " 5   release_date             45359 non-null  object \n",
      " 6   revenue                  45359 non-null  float64\n",
      " 7   runtime                  45113 non-null  float64\n",
      " 8   status                   45279 non-null  object \n",
      " 9   tagline                  20393 non-null  object \n",
      " 10  title                    45359 non-null  object \n",
      " 11  vote_average             45359 non-null  float64\n",
      " 12  vote_count               45359 non-null  float64\n",
      " 13  id.1                     4487 non-null   float64\n",
      " 14  name                     4487 non-null   object \n",
      " 15  poster_path.1            3944 non-null   object \n",
      " 16  backdrop_path            3260 non-null   object \n",
      " 17  genre_id                 45359 non-null  object \n",
      " 18  genre_name               45359 non-null  object \n",
      " 19  production_company_name  33568 non-null  object \n",
      " 20  production_company_id    33568 non-null  object \n",
      " 21  production_iso_3166_1    39150 non-null  object \n",
      " 22  production_country       39151 non-null  object \n",
      " 23  language_iso_639_1       41593 non-null  object \n",
      " 24  language                 41372 non-null  object \n",
      " 25  release_year             45359 non-null  int64  \n",
      " 26  return                   45359 non-null  float64\n",
      " 27  id_credits               18784 non-null  float64\n",
      " 28  cast_id                  17811 non-null  object \n",
      " 29  character                17811 non-null  object \n",
      " 30  credit_id                17811 non-null  object \n",
      " 31  actor_gender             17811 non-null  object \n",
      " 32  actor_id                 17811 non-null  object \n",
      " 33  actor_name               17811 non-null  object \n",
      " 34  order                    17811 non-null  object \n",
      " 35  profile_path             17811 non-null  object \n",
      " 36  crew_credit_id           18503 non-null  object \n",
      " 37  crew_department          18503 non-null  object \n",
      " 38  crew_gender              18503 non-null  object \n",
      " 39  crew_id                  18503 non-null  object \n",
      " 40  crew_job                 18503 non-null  object \n",
      " 41  crew_name                18503 non-null  object \n",
      " 42  crew_profile_path        18503 non-null  object \n",
      "dtypes: float64(8), int64(3), object(32)\n",
      "memory usage: 14.9+ MB\n"
     ]
    }
   ],
   "source": [
    "full_data.info()"
   ]
  },
  {
   "cell_type": "code",
   "execution_count": null,
   "metadata": {},
   "outputs": [
    {
     "data": {
      "text/plain": [
       "budget                                                              30000000\n",
       "id_movies                                                                862\n",
       "original_language                                                         en\n",
       "overview                   Led by Woody, Andy's toys live happily in his ...\n",
       "popularity                                                         21.946943\n",
       "release_date                                                      1995-10-30\n",
       "revenue                                                          373554033.0\n",
       "runtime                                                                 81.0\n",
       "status                                                              Released\n",
       "tagline                                                                  NaN\n",
       "title                                                              Toy Story\n",
       "vote_average                                                             7.7\n",
       "vote_count                                                            5415.0\n",
       "id.1                                                                 10194.0\n",
       "name                                                    Toy Story Collection\n",
       "poster_path.1                               /7G9915LfUQ2lVfwMEEhDsn3kT4B.jpg\n",
       "backdrop_path                               /9FBwqcd9IRruEDUrTdcaafOMKUq.jpg\n",
       "genre_id                                                     [16, 35, 10751]\n",
       "genre_name                                 ['Animation', 'Comedy', 'Family']\n",
       "production_company_name                          ['Pixar Animation Studios']\n",
       "production_company_id                                                    [3]\n",
       "production_iso_3166_1                                                     US\n",
       "production_country                                  United States of America\n",
       "language_iso_639_1                                                        en\n",
       "language                                                             English\n",
       "return                                                             12.451801\n",
       "id_credits                                                          101230.0\n",
       "cast_id                                                               [3, 4]\n",
       "character                                                ['Thomas', 'Sarah']\n",
       "credit_id                  ['52fe49eac3a36847f81ad51b', '54736b009251415c...\n",
       "actor_gender                                                          [2, 1]\n",
       "actor_id                                                     [211203, 45746]\n",
       "actor_name                              ['Ad van Kempen', 'Ariane Schluter']\n",
       "order                                                                 [1, 2]\n",
       "profile_path                      [None, '/hRoNRFW1fTKLatWr507tR5peWZD.jpg']\n",
       "crew_credit_id                                  ['52fe49eac3a36847f81ad513']\n",
       "crew_department                                                ['Directing']\n",
       "crew_gender                                                              [0]\n",
       "crew_id                                                              [28889]\n",
       "crew_job                                                        ['Director']\n",
       "crew_name                                                  ['Theo van Gogh']\n",
       "crew_profile_path                                                     [None]\n",
       "Name: 0, dtype: object"
      ]
     },
     "execution_count": 68,
     "metadata": {},
     "output_type": "execute_result"
    }
   ],
   "source": [
    "full_data.iloc[0]"
   ]
  },
  {
   "cell_type": "code",
   "execution_count": 6,
   "metadata": {},
   "outputs": [],
   "source": [
    "final_movie_set = full_data.copy()"
   ]
  },
  {
   "cell_type": "markdown",
   "metadata": {},
   "source": [
    "Se remueven las columnas que en una opinion personal y luego de revisar como funcionan otros recomendadores famosos como el de netflix o hbo, las dejo de lado. Se parte de la premisa de que una buena pelicula debe recomendarse por los actores, la trama, la empresa que la produce y los miembros del crew que la conforman."
   ]
  },
  {
   "cell_type": "code",
   "execution_count": 7,
   "metadata": {},
   "outputs": [
    {
     "name": "stdout",
     "output_type": "stream",
     "text": [
      "<class 'pandas.core.frame.DataFrame'>\n",
      "RangeIndex: 45359 entries, 0 to 45358\n",
      "Data columns (total 27 columns):\n",
      " #   Column                   Non-Null Count  Dtype  \n",
      "---  ------                   --------------  -----  \n",
      " 0   id_movies                45359 non-null  int64  \n",
      " 1   original_language        45348 non-null  object \n",
      " 2   overview                 44418 non-null  object \n",
      " 3   popularity               45359 non-null  float64\n",
      " 4   release_date             45359 non-null  object \n",
      " 5   runtime                  45113 non-null  float64\n",
      " 6   tagline                  20393 non-null  object \n",
      " 7   title                    45359 non-null  object \n",
      " 8   vote_average             45359 non-null  float64\n",
      " 9   vote_count               45359 non-null  float64\n",
      " 10  name                     4487 non-null   object \n",
      " 11  genre_id                 45359 non-null  object \n",
      " 12  genre_name               45359 non-null  object \n",
      " 13  production_company_name  33568 non-null  object \n",
      " 14  production_company_id    33568 non-null  object \n",
      " 15  production_country       39151 non-null  object \n",
      " 16  language                 41372 non-null  object \n",
      " 17  release_year             45359 non-null  int64  \n",
      " 18  cast_id                  17811 non-null  object \n",
      " 19  actor_gender             17811 non-null  object \n",
      " 20  actor_id                 17811 non-null  object \n",
      " 21  actor_name               17811 non-null  object \n",
      " 22  order                    17811 non-null  object \n",
      " 23  crew_department          18503 non-null  object \n",
      " 24  crew_gender              18503 non-null  object \n",
      " 25  crew_job                 18503 non-null  object \n",
      " 26  crew_name                18503 non-null  object \n",
      "dtypes: float64(4), int64(2), object(21)\n",
      "memory usage: 9.3+ MB\n"
     ]
    }
   ],
   "source": [
    "final_movie_set.drop(columns=['budget','revenue','status','id.1','poster_path.1','backdrop_path','production_iso_3166_1','language_iso_639_1','return','id_credits','character','credit_id','profile_path','crew_credit_id','crew_id','crew_profile_path'], inplace=True)\n",
    "final_movie_set.info()"
   ]
  },
  {
   "cell_type": "markdown",
   "metadata": {},
   "source": [
    "The full_data is used, the ML model is nearest neighbours with OneHotEncoder, the metric is cosine. It is working fine"
   ]
  },
  {
   "cell_type": "code",
   "execution_count": 8,
   "metadata": {},
   "outputs": [],
   "source": [
    "from sklearn.neighbors import NearestNeighbors\n",
    "from sklearn.preprocessing import OneHotEncoder\n",
    "\n",
    "# i want to use only certain row\n",
    "\n",
    "movie_title = final_movie_set[\"title\"]\n",
    "encoder = OneHotEncoder()\n",
    "title_encoded = encoder.fit_transform(movie_title.values.reshape(-1,1))\n",
    "recommender = NearestNeighbors(metric='euclidean')\n",
    "recommender.fit(title_encoded)\n",
    "\n",
    "title_index = np.random.randint(0,len(final_movie_set[\"title\"]))\n",
    "num_recommendations = 8\n",
    "\n",
    "_, recommendations2 = recommender.kneighbors(title_encoded[title_index].toarray(), n_neighbors=num_recommendations)\n",
    "recommended_movie_titles = final_movie_set.iloc[recommendations2[0]]['title']"
   ]
  },
  {
   "cell_type": "code",
   "execution_count": 9,
   "metadata": {},
   "outputs": [
    {
     "data": {
      "text/plain": [
       "'The Mistletoe Promise'"
      ]
     },
     "execution_count": 9,
     "metadata": {},
     "output_type": "execute_result"
    }
   ],
   "source": [
    "movie_title.iloc[title_index]"
   ]
  },
  {
   "cell_type": "code",
   "execution_count": 12,
   "metadata": {},
   "outputs": [
    {
     "data": {
      "text/plain": [
       "array(['The Mistletoe Promise', 'London Road', 'Erotikon',\n",
       "       'If You Were Young: Rage', 'I Hate Luv Storys', 'Entourage',\n",
       "       'Mere Brother Ki Dulhan', 'Bitter Lake'], dtype=object)"
      ]
     },
     "execution_count": 12,
     "metadata": {},
     "output_type": "execute_result"
    }
   ],
   "source": [
    "recommended_movie_titles.values"
   ]
  },
  {
   "cell_type": "code",
   "execution_count": 14,
   "metadata": {},
   "outputs": [],
   "source": [
    "final_movie_set[['original_language','overview','popularity','vote_average','title','vote_count','genre_name','actor_name','crew_name']].to_csv(\"final_movie_set.csv\",compression=\"gzip\")"
   ]
  },
  {
   "cell_type": "code",
   "execution_count": 15,
   "metadata": {},
   "outputs": [
    {
     "name": "stdout",
     "output_type": "stream",
     "text": [
      "<class 'pandas.core.frame.DataFrame'>\n",
      "RangeIndex: 45359 entries, 0 to 45358\n",
      "Data columns (total 27 columns):\n",
      " #   Column                   Non-Null Count  Dtype  \n",
      "---  ------                   --------------  -----  \n",
      " 0   id_movies                45359 non-null  int64  \n",
      " 1   original_language        45348 non-null  object \n",
      " 2   overview                 44418 non-null  object \n",
      " 3   popularity               45359 non-null  float64\n",
      " 4   release_date             45359 non-null  object \n",
      " 5   runtime                  45113 non-null  float64\n",
      " 6   tagline                  20393 non-null  object \n",
      " 7   title                    45359 non-null  object \n",
      " 8   vote_average             45359 non-null  float64\n",
      " 9   vote_count               45359 non-null  float64\n",
      " 10  name                     4487 non-null   object \n",
      " 11  genre_id                 45359 non-null  object \n",
      " 12  genre_name               45359 non-null  object \n",
      " 13  production_company_name  33568 non-null  object \n",
      " 14  production_company_id    33568 non-null  object \n",
      " 15  production_country       39151 non-null  object \n",
      " 16  language                 41372 non-null  object \n",
      " 17  release_year             45359 non-null  int64  \n",
      " 18  cast_id                  17811 non-null  object \n",
      " 19  actor_gender             17811 non-null  object \n",
      " 20  actor_id                 17811 non-null  object \n",
      " 21  actor_name               17811 non-null  object \n",
      " 22  order                    17811 non-null  object \n",
      " 23  crew_department          18503 non-null  object \n",
      " 24  crew_gender              18503 non-null  object \n",
      " 25  crew_job                 18503 non-null  object \n",
      " 26  crew_name                18503 non-null  object \n",
      "dtypes: float64(4), int64(2), object(21)\n",
      "memory usage: 9.3+ MB\n"
     ]
    }
   ],
   "source": [
    "final_movie_set.info()"
   ]
  }
 ],
 "metadata": {
  "kernelspec": {
   "display_name": "movie-recommender",
   "language": "python",
   "name": "python3"
  },
  "language_info": {
   "codemirror_mode": {
    "name": "ipython",
    "version": 3
   },
   "file_extension": ".py",
   "mimetype": "text/x-python",
   "name": "python",
   "nbconvert_exporter": "python",
   "pygments_lexer": "ipython3",
   "version": "3.11.7"
  }
 },
 "nbformat": 4,
 "nbformat_minor": 2
}
